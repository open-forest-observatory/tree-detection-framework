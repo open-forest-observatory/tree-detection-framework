{
 "cells": [
  {
   "cell_type": "markdown",
   "metadata": {},
   "source": [
    "Training and predicting with `DeepForestDetector`\n",
    "--"
   ]
  },
  {
   "cell_type": "markdown",
   "metadata": {},
   "source": [
    "Train:\n",
    "--\n",
    "\n",
    "Here, we use `CustomDataModule` which inherits from `lightning.pytorch.LightningDataModule`"
   ]
  },
  {
   "cell_type": "code",
   "execution_count": 1,
   "metadata": {},
   "outputs": [
    {
     "name": "stderr",
     "output_type": "stream",
     "text": [
      "/ofo-share/repos-amritha/conda/envs/tree-detection-framework/lib/python3.10/site-packages/kornia/feature/lightglue.py:44: FutureWarning: `torch.cuda.amp.custom_fwd(args...)` is deprecated. Please use `torch.amp.custom_fwd(args..., device_type='cuda')` instead.\n",
      "  @torch.cuda.amp.custom_fwd(cast_inputs=torch.float32)\n",
      "/ofo-share/repos-amritha/conda/envs/tree-detection-framework/lib/python3.10/site-packages/tqdm/auto.py:21: TqdmWarning: IProgress not found. Please update jupyter and ipywidgets. See https://ipywidgets.readthedocs.io/en/stable/user_install.html\n",
      "  from .autonotebook import tqdm as notebook_tqdm\n",
      "/ofo-share/repos-amritha/conda/envs/tree-detection-framework/lib/python3.10/site-packages/albumentations/__init__.py:13: UserWarning: A new version of Albumentations is available: 1.4.20 (you have 1.4.14). Upgrade using: pip install -U albumentations. To disable automatic update checks, set the environment variable NO_ALBUMENTATIONS_UPDATE to 1.\n",
      "  check_for_updates()\n"
     ]
    }
   ],
   "source": [
    "from tree_detection_framework.preprocessing.preprocessing import (\n",
    "    create_dataloader,\n",
    "    visualize_dataloader,\n",
    "    CustomDataModule,\n",
    ")\n",
    "from tree_detection_framework.detection.detector import DeepForestDetector\n",
    "from tree_detection_framework.detection.models import DeepForestModule"
   ]
  },
  {
   "cell_type": "code",
   "execution_count": 2,
   "metadata": {},
   "outputs": [
    {
     "name": "stderr",
     "output_type": "stream",
     "text": [
      "/ofo-share/repos-amritha/tree-detection-framework/tree_detection_framework/detection/models.py:75: FutureWarning: You are using `torch.load` with `weights_only=False` (the current default value), which uses the default pickle module implicitly. It is possible to construct malicious pickle data which will execute arbitrary code during unpickling (See https://github.com/pytorch/pytorch/blob/main/SECURITY.md#untrusted-models for more details). In a future release, the default value for `weights_only` will be flipped to `True`. This limits the functions that could be executed during unpickling. Arbitrary objects will no longer be allowed to be loaded via this mode unless they are explicitly allowlisted by the user via `torch.serialization.add_safe_globals`. We recommend you start setting `weights_only=True` for any use case where you don't have full control of the loaded file. Please open an issue on GitHub for any issues related to this experimental feature.\n",
      "  self.model.load_state_dict(torch.load(self.release_state_dict))\n",
      "GPU available: True (cuda), used: True\n",
      "TPU available: False, using: 0 TPU cores\n",
      "HPU available: False, using: 0 HPUs\n"
     ]
    },
    {
     "name": "stdout",
     "output_type": "stream",
     "text": [
      "Model from DeepForest release https://github.com/weecology/DeepForest/releases/tag/1.0.0 was already downloaded. Loading model from file.\n",
      "Loading pre-built model: https://github.com/weecology/DeepForest/releases/tag/1.0.0\n"
     ]
    },
    {
     "name": "stderr",
     "output_type": "stream",
     "text": [
      "/ofo-share/repos-amritha/conda/envs/tree-detection-framework/lib/python3.10/site-packages/lightning/pytorch/trainer/configuration_validator.py:68: You passed in a `val_dataloader` but have no `validation_step`. Skipping val loop.\n",
      "You are using a CUDA device ('GRID A100X-8C') that has Tensor Cores. To properly utilize them, you should set `torch.set_float32_matmul_precision('medium' | 'high')` which will trade-off precision for performance. For more details, read https://pytorch.org/docs/stable/generated/torch.set_float32_matmul_precision.html#torch.set_float32_matmul_precision\n",
      "LOCAL_RANK: 0 - CUDA_VISIBLE_DEVICES: [0]\n",
      "\n",
      "  | Name  | Type      | Params | Mode \n",
      "--------------------------------------------\n",
      "0 | model | RetinaNet | 32.1 M | train\n",
      "--------------------------------------------\n",
      "31.9 M    Trainable params\n",
      "222 K     Non-trainable params\n",
      "32.1 M    Total params\n",
      "128.592   Total estimated model params size (MB)\n",
      "202       Modules in train mode\n",
      "0         Modules in eval mode\n",
      "/ofo-share/repos-amritha/conda/envs/tree-detection-framework/lib/python3.10/site-packages/lightning/pytorch/trainer/connectors/data_connector.py:424: The 'train_dataloader' does not have many workers which may be a bottleneck. Consider increasing the value of the `num_workers` argument` to `num_workers=3` in the `DataLoader` to improve performance.\n",
      "/ofo-share/repos-amritha/conda/envs/tree-detection-framework/lib/python3.10/site-packages/lightning/pytorch/loops/fit_loop.py:298: The number of training batches (9) is smaller than the logging interval Trainer(log_every_n_steps=50). Set a lower value for log_every_n_steps if you want to see logs for the training epoch.\n"
     ]
    },
    {
     "name": "stdout",
     "output_type": "stream",
     "text": [
      "Epoch 0:   0%|          | 0/9 [00:00<?, ?it/s] "
     ]
    },
    {
     "name": "stderr",
     "output_type": "stream",
     "text": [
      "/ofo-share/repos-amritha/conda/envs/tree-detection-framework/lib/python3.10/site-packages/rasterio/merge.py:369: NodataShadowWarning: The dataset's nodata attribute is shadowing the alpha band. All masks will be determined by the nodata attribute\n",
      "  temp_src = src.read(\n"
     ]
    },
    {
     "name": "stdout",
     "output_type": "stream",
     "text": [
      "loss:  tensor(1.0704, device='cuda:0', grad_fn=<AddBackward0>)\n",
      "Epoch 0:  11%|█         | 1/9 [00:02<00:16,  0.49it/s, v_num=3]loss:  tensor(0.9223, device='cuda:0', grad_fn=<AddBackward0>)\n",
      "Epoch 0:  22%|██▏       | 2/9 [00:02<00:07,  0.88it/s, v_num=3]"
     ]
    },
    {
     "name": "stderr",
     "output_type": "stream",
     "text": [
      "/ofo-share/repos-amritha/conda/envs/tree-detection-framework/lib/python3.10/site-packages/rasterio/merge.py:369: NodataShadowWarning: The dataset's nodata attribute is shadowing the alpha band. All masks will be determined by the nodata attribute\n",
      "  temp_src = src.read(\n"
     ]
    },
    {
     "name": "stdout",
     "output_type": "stream",
     "text": [
      "loss:  tensor(1.2529, device='cuda:0', grad_fn=<AddBackward0>)\n",
      "Epoch 0:  33%|███▎      | 3/9 [00:02<00:04,  1.22it/s, v_num=3]"
     ]
    },
    {
     "name": "stderr",
     "output_type": "stream",
     "text": [
      "/ofo-share/repos-amritha/conda/envs/tree-detection-framework/lib/python3.10/site-packages/rasterio/merge.py:369: NodataShadowWarning: The dataset's nodata attribute is shadowing the alpha band. All masks will be determined by the nodata attribute\n",
      "  temp_src = src.read(\n"
     ]
    },
    {
     "name": "stdout",
     "output_type": "stream",
     "text": [
      "loss:  tensor(0.8815, device='cuda:0', grad_fn=<AddBackward0>)\n",
      "Epoch 0:  44%|████▍     | 4/9 [00:03<00:03,  1.30it/s, v_num=3]"
     ]
    },
    {
     "name": "stderr",
     "output_type": "stream",
     "text": [
      "/ofo-share/repos-amritha/conda/envs/tree-detection-framework/lib/python3.10/site-packages/rasterio/merge.py:369: NodataShadowWarning: The dataset's nodata attribute is shadowing the alpha band. All masks will be determined by the nodata attribute\n",
      "  temp_src = src.read(\n",
      "/ofo-share/repos-amritha/conda/envs/tree-detection-framework/lib/python3.10/site-packages/rasterio/merge.py:369: NodataShadowWarning: The dataset's nodata attribute is shadowing the alpha band. All masks will be determined by the nodata attribute\n",
      "  temp_src = src.read(\n"
     ]
    },
    {
     "name": "stdout",
     "output_type": "stream",
     "text": [
      "loss:  tensor(1.0435, device='cuda:0', grad_fn=<AddBackward0>)\n",
      "Epoch 0:  56%|█████▌    | 5/9 [00:03<00:02,  1.52it/s, v_num=3]loss:  tensor(1.0017, device='cuda:0', grad_fn=<AddBackward0>)\n",
      "Epoch 0:  67%|██████▋   | 6/9 [00:03<00:01,  1.73it/s, v_num=3]"
     ]
    },
    {
     "name": "stderr",
     "output_type": "stream",
     "text": [
      "/ofo-share/repos-amritha/conda/envs/tree-detection-framework/lib/python3.10/site-packages/rasterio/merge.py:369: NodataShadowWarning: The dataset's nodata attribute is shadowing the alpha band. All masks will be determined by the nodata attribute\n",
      "  temp_src = src.read(\n"
     ]
    },
    {
     "name": "stdout",
     "output_type": "stream",
     "text": [
      "loss:  tensor(1.0744, device='cuda:0', grad_fn=<AddBackward0>)\n",
      "Epoch 0:  78%|███████▊  | 7/9 [00:04<00:01,  1.70it/s, v_num=3]"
     ]
    },
    {
     "name": "stderr",
     "output_type": "stream",
     "text": [
      "/ofo-share/repos-amritha/conda/envs/tree-detection-framework/lib/python3.10/site-packages/rasterio/merge.py:369: NodataShadowWarning: The dataset's nodata attribute is shadowing the alpha band. All masks will be determined by the nodata attribute\n",
      "  temp_src = src.read(\n"
     ]
    },
    {
     "name": "stdout",
     "output_type": "stream",
     "text": [
      "loss:  tensor(0.8758, device='cuda:0', grad_fn=<AddBackward0>)\n",
      "Epoch 0:  89%|████████▉ | 8/9 [00:04<00:00,  1.86it/s, v_num=3]"
     ]
    },
    {
     "name": "stderr",
     "output_type": "stream",
     "text": [
      "/ofo-share/repos-amritha/conda/envs/tree-detection-framework/lib/python3.10/site-packages/rasterio/merge.py:369: NodataShadowWarning: The dataset's nodata attribute is shadowing the alpha band. All masks will be determined by the nodata attribute\n",
      "  temp_src = src.read(\n",
      "/ofo-share/repos-amritha/conda/envs/tree-detection-framework/lib/python3.10/site-packages/rasterio/merge.py:369: NodataShadowWarning: The dataset's nodata attribute is shadowing the alpha band. All masks will be determined by the nodata attribute\n",
      "  temp_src = src.read(\n"
     ]
    },
    {
     "name": "stdout",
     "output_type": "stream",
     "text": [
      "loss:  tensor(0.9056, device='cuda:0', grad_fn=<AddBackward0>)\n",
      "Epoch 1:   0%|          | 0/9 [00:00<?, ?it/s, v_num=3]        "
     ]
    },
    {
     "name": "stderr",
     "output_type": "stream",
     "text": [
      "/ofo-share/repos-amritha/conda/envs/tree-detection-framework/lib/python3.10/site-packages/lightning/pytorch/callbacks/model_checkpoint.py:384: `ModelCheckpoint(monitor='box_recall')` could not find the monitored key in the returned metrics: ['epoch', 'step']. HINT: Did you call `log('box_recall', value)` in the `LightningModule`?\n",
      "/ofo-share/repos-amritha/conda/envs/tree-detection-framework/lib/python3.10/site-packages/rasterio/merge.py:369: NodataShadowWarning: The dataset's nodata attribute is shadowing the alpha band. All masks will be determined by the nodata attribute\n",
      "  temp_src = src.read(\n"
     ]
    },
    {
     "name": "stdout",
     "output_type": "stream",
     "text": [
      "loss:  tensor(0.8508, device='cuda:0', grad_fn=<AddBackward0>)\n",
      "Epoch 1:  11%|█         | 1/9 [00:00<00:02,  3.96it/s, v_num=3]loss:  tensor(0.7929, device='cuda:0', grad_fn=<AddBackward0>)\n",
      "Epoch 1:  22%|██▏       | 2/9 [00:00<00:01,  4.33it/s, v_num=3]"
     ]
    },
    {
     "name": "stderr",
     "output_type": "stream",
     "text": [
      "/ofo-share/repos-amritha/conda/envs/tree-detection-framework/lib/python3.10/site-packages/rasterio/merge.py:369: NodataShadowWarning: The dataset's nodata attribute is shadowing the alpha band. All masks will be determined by the nodata attribute\n",
      "  temp_src = src.read(\n"
     ]
    },
    {
     "name": "stdout",
     "output_type": "stream",
     "text": [
      "loss:  tensor(0.9890, device='cuda:0', grad_fn=<AddBackward0>)\n",
      "Epoch 1:  33%|███▎      | 3/9 [00:00<00:01,  4.28it/s, v_num=3]"
     ]
    },
    {
     "name": "stderr",
     "output_type": "stream",
     "text": [
      "/ofo-share/repos-amritha/conda/envs/tree-detection-framework/lib/python3.10/site-packages/rasterio/merge.py:369: NodataShadowWarning: The dataset's nodata attribute is shadowing the alpha band. All masks will be determined by the nodata attribute\n",
      "  temp_src = src.read(\n"
     ]
    },
    {
     "name": "stdout",
     "output_type": "stream",
     "text": [
      "loss:  tensor(0.7859, device='cuda:0', grad_fn=<AddBackward0>)\n",
      "Epoch 1:  44%|████▍     | 4/9 [00:00<00:01,  4.52it/s, v_num=3]"
     ]
    },
    {
     "name": "stderr",
     "output_type": "stream",
     "text": [
      "/ofo-share/repos-amritha/conda/envs/tree-detection-framework/lib/python3.10/site-packages/rasterio/merge.py:369: NodataShadowWarning: The dataset's nodata attribute is shadowing the alpha band. All masks will be determined by the nodata attribute\n",
      "  temp_src = src.read(\n",
      "/ofo-share/repos-amritha/conda/envs/tree-detection-framework/lib/python3.10/site-packages/rasterio/merge.py:369: NodataShadowWarning: The dataset's nodata attribute is shadowing the alpha band. All masks will be determined by the nodata attribute\n",
      "  temp_src = src.read(\n"
     ]
    },
    {
     "name": "stdout",
     "output_type": "stream",
     "text": [
      "loss:  tensor(0.8178, device='cuda:0', grad_fn=<AddBackward0>)\n",
      "Epoch 1:  56%|█████▌    | 5/9 [00:01<00:00,  4.37it/s, v_num=3]loss:  tensor(0.8875, device='cuda:0', grad_fn=<AddBackward0>)\n",
      "Epoch 1:  67%|██████▋   | 6/9 [00:01<00:00,  4.54it/s, v_num=3]"
     ]
    },
    {
     "name": "stderr",
     "output_type": "stream",
     "text": [
      "/ofo-share/repos-amritha/conda/envs/tree-detection-framework/lib/python3.10/site-packages/rasterio/merge.py:369: NodataShadowWarning: The dataset's nodata attribute is shadowing the alpha band. All masks will be determined by the nodata attribute\n",
      "  temp_src = src.read(\n",
      "/ofo-share/repos-amritha/conda/envs/tree-detection-framework/lib/python3.10/site-packages/rasterio/merge.py:369: NodataShadowWarning: The dataset's nodata attribute is shadowing the alpha band. All masks will be determined by the nodata attribute\n",
      "  temp_src = src.read(\n"
     ]
    },
    {
     "name": "stdout",
     "output_type": "stream",
     "text": [
      "loss:  tensor(0.8421, device='cuda:0', grad_fn=<AddBackward0>)\n",
      "Epoch 1:  78%|███████▊  | 7/9 [00:01<00:00,  4.47it/s, v_num=3]loss:  tensor(0.7842, device='cuda:0', grad_fn=<AddBackward0>)\n",
      "Epoch 1:  89%|████████▉ | 8/9 [00:01<00:00,  4.55it/s, v_num=3]"
     ]
    },
    {
     "name": "stderr",
     "output_type": "stream",
     "text": [
      "/ofo-share/repos-amritha/conda/envs/tree-detection-framework/lib/python3.10/site-packages/rasterio/merge.py:369: NodataShadowWarning: The dataset's nodata attribute is shadowing the alpha band. All masks will be determined by the nodata attribute\n",
      "  temp_src = src.read(\n",
      "/ofo-share/repos-amritha/conda/envs/tree-detection-framework/lib/python3.10/site-packages/rasterio/merge.py:369: NodataShadowWarning: The dataset's nodata attribute is shadowing the alpha band. All masks will be determined by the nodata attribute\n",
      "  temp_src = src.read(\n"
     ]
    },
    {
     "name": "stdout",
     "output_type": "stream",
     "text": [
      "loss:  tensor(0.8455, device='cuda:0', grad_fn=<AddBackward0>)\n",
      "Epoch 2:   0%|          | 0/9 [00:00<?, ?it/s, v_num=3]        loss:  tensor(0.8073, device='cuda:0', grad_fn=<AddBackward0>)\n",
      "Epoch 2:  11%|█         | 1/9 [00:00<00:01,  5.41it/s, v_num=3]"
     ]
    },
    {
     "name": "stderr",
     "output_type": "stream",
     "text": [
      "/ofo-share/repos-amritha/conda/envs/tree-detection-framework/lib/python3.10/site-packages/rasterio/merge.py:369: NodataShadowWarning: The dataset's nodata attribute is shadowing the alpha band. All masks will be determined by the nodata attribute\n",
      "  temp_src = src.read(\n",
      "/ofo-share/repos-amritha/conda/envs/tree-detection-framework/lib/python3.10/site-packages/rasterio/merge.py:369: NodataShadowWarning: The dataset's nodata attribute is shadowing the alpha band. All masks will be determined by the nodata attribute\n",
      "  temp_src = src.read(\n"
     ]
    },
    {
     "name": "stdout",
     "output_type": "stream",
     "text": [
      "loss:  tensor(0.7894, device='cuda:0', grad_fn=<AddBackward0>)\n",
      "Epoch 2:  22%|██▏       | 2/9 [00:00<00:01,  5.31it/s, v_num=3]loss:  tensor(0.9420, device='cuda:0', grad_fn=<AddBackward0>)\n",
      "Epoch 2:  33%|███▎      | 3/9 [00:00<00:01,  4.96it/s, v_num=3]"
     ]
    },
    {
     "name": "stderr",
     "output_type": "stream",
     "text": [
      "/ofo-share/repos-amritha/conda/envs/tree-detection-framework/lib/python3.10/site-packages/rasterio/merge.py:369: NodataShadowWarning: The dataset's nodata attribute is shadowing the alpha band. All masks will be determined by the nodata attribute\n",
      "  temp_src = src.read(\n"
     ]
    },
    {
     "name": "stdout",
     "output_type": "stream",
     "text": [
      "loss:  tensor(0.7424, device='cuda:0', grad_fn=<AddBackward0>)\n",
      "Epoch 2:  44%|████▍     | 4/9 [00:00<00:00,  5.06it/s, v_num=3]"
     ]
    },
    {
     "name": "stderr",
     "output_type": "stream",
     "text": [
      "/ofo-share/repos-amritha/conda/envs/tree-detection-framework/lib/python3.10/site-packages/rasterio/merge.py:369: NodataShadowWarning: The dataset's nodata attribute is shadowing the alpha band. All masks will be determined by the nodata attribute\n",
      "  temp_src = src.read(\n",
      "/ofo-share/repos-amritha/conda/envs/tree-detection-framework/lib/python3.10/site-packages/rasterio/merge.py:369: NodataShadowWarning: The dataset's nodata attribute is shadowing the alpha band. All masks will be determined by the nodata attribute\n",
      "  temp_src = src.read(\n"
     ]
    },
    {
     "name": "stdout",
     "output_type": "stream",
     "text": [
      "loss:  tensor(0.7927, device='cuda:0', grad_fn=<AddBackward0>)\n",
      "Epoch 2:  56%|█████▌    | 5/9 [00:00<00:00,  5.07it/s, v_num=3]loss:  tensor(0.8276, device='cuda:0', grad_fn=<AddBackward0>)\n",
      "Epoch 2:  67%|██████▋   | 6/9 [00:01<00:00,  5.20it/s, v_num=3]"
     ]
    },
    {
     "name": "stderr",
     "output_type": "stream",
     "text": [
      "/ofo-share/repos-amritha/conda/envs/tree-detection-framework/lib/python3.10/site-packages/rasterio/merge.py:369: NodataShadowWarning: The dataset's nodata attribute is shadowing the alpha band. All masks will be determined by the nodata attribute\n",
      "  temp_src = src.read(\n",
      "/ofo-share/repos-amritha/conda/envs/tree-detection-framework/lib/python3.10/site-packages/rasterio/merge.py:369: NodataShadowWarning: The dataset's nodata attribute is shadowing the alpha band. All masks will be determined by the nodata attribute\n",
      "  temp_src = src.read(\n"
     ]
    },
    {
     "name": "stdout",
     "output_type": "stream",
     "text": [
      "loss:  tensor(0.8364, device='cuda:0', grad_fn=<AddBackward0>)\n",
      "Epoch 2:  78%|███████▊  | 7/9 [00:01<00:00,  5.22it/s, v_num=3]loss:  tensor(0.7590, device='cuda:0', grad_fn=<AddBackward0>)\n",
      "Epoch 2:  89%|████████▉ | 8/9 [00:01<00:00,  5.15it/s, v_num=3]"
     ]
    },
    {
     "name": "stderr",
     "output_type": "stream",
     "text": [
      "/ofo-share/repos-amritha/conda/envs/tree-detection-framework/lib/python3.10/site-packages/rasterio/merge.py:369: NodataShadowWarning: The dataset's nodata attribute is shadowing the alpha band. All masks will be determined by the nodata attribute\n",
      "  temp_src = src.read(\n"
     ]
    },
    {
     "name": "stdout",
     "output_type": "stream",
     "text": [
      "loss:  tensor(0.8055, device='cuda:0', grad_fn=<AddBackward0>)\n",
      "Epoch 2: 100%|██████████| 9/9 [00:01<00:00,  5.02it/s, v_num=3]"
     ]
    },
    {
     "name": "stderr",
     "output_type": "stream",
     "text": [
      "/ofo-share/repos-amritha/conda/envs/tree-detection-framework/lib/python3.10/site-packages/rasterio/merge.py:369: NodataShadowWarning: The dataset's nodata attribute is shadowing the alpha band. All masks will be determined by the nodata attribute\n",
      "  temp_src = src.read(\n",
      "`Trainer.fit` stopped: `max_epochs=3` reached.\n"
     ]
    },
    {
     "name": "stdout",
     "output_type": "stream",
     "text": [
      "Epoch 2: 100%|██████████| 9/9 [00:01<00:00,  5.01it/s, v_num=3]\n"
     ]
    }
   ],
   "source": [
    "# Initialize a GeoDataModule instance\n",
    "datamodule = CustomDataModule(\n",
    "    raster_folder_path=\"/ofo-share/scratch-amritha/emerald_point_dtree2/dataset/emerald-point-ortho\",\n",
    "    vector_folder_path=\"/ofo-share/scratch-amritha/emerald_point_dtree2/dataset/crowns\",\n",
    "    output_res=0.2,\n",
    "    vector_label_name=\"treeID\",\n",
    ")\n",
    "\n",
    "# Setup the parameters dictionary\n",
    "param_dict = {\n",
    "    \"backbone\": \"retinanet\",\n",
    "    \"enable_checkpointing\": True,\n",
    "    \"train\": {\"epochs\": 3, \"lr\": 0.001},\n",
    "    \"num_classes\": 1,\n",
    "}\n",
    "\n",
    "# TODO: separate the param_dict into 2 different dictionaries\n",
    "df_module = DeepForestModule(param_dict)\n",
    "lightning_detector = DeepForestDetector()\n",
    "lightning_detector.train(df_module, datamodule, param_dict)"
   ]
  },
  {
   "cell_type": "markdown",
   "metadata": {},
   "source": [
    "Predict:\n",
    "--"
   ]
  },
  {
   "cell_type": "code",
   "execution_count": 3,
   "metadata": {},
   "outputs": [
    {
     "name": "stderr",
     "output_type": "stream",
     "text": [
      "2024-10-29 23:55:37,040 - INFO - Units = Units.PIXELS\n",
      "2024-10-29 23:55:37,040 - INFO - Stride = 400\n"
     ]
    }
   ],
   "source": [
    "dataloader = create_dataloader(\n",
    "    raster_folder_path=\"/ofo-share/scratch-amritha/emerald_point_dtree2/dataset/emerald-point-ortho\",\n",
    "    chip_size=512,\n",
    "    chip_stride=400,\n",
    "    output_resolution=0.2,\n",
    ")"
   ]
  },
  {
   "cell_type": "code",
   "execution_count": null,
   "metadata": {},
   "outputs": [],
   "source": [
    "deepforest_detector = DeepForestDetector()\n",
    "\n",
    "# This model uses pretrained weights from DeepForest\n",
    "predicted_regions = deepforest_detector.predict(dataloader)"
   ]
  },
  {
   "cell_type": "code",
   "execution_count": 5,
   "metadata": {},
   "outputs": [
    {
     "data": {
      "text/plain": [
       "<tree_detection_framework.detection.region_detections.RegionDetectionsSet at 0x70f360e73c70>"
      ]
     },
     "execution_count": 5,
     "metadata": {},
     "output_type": "execute_result"
    }
   ],
   "source": [
    "predicted_regions"
   ]
  },
  {
   "cell_type": "code",
   "execution_count": 6,
   "metadata": {},
   "outputs": [
    {
     "data": {
      "image/png": "[encoded data removed]",
      "text/plain": [
       "<Figure size 640x480 with 1 Axes>"
      ]
     },
     "metadata": {},
     "output_type": "display_data"
    },
    {
     "data": {
      "text/plain": [
       "<Axes: >"
      ]
     },
     "execution_count": 6,
     "metadata": {},
     "output_type": "execute_result"
    }
   ],
   "source": [
    "predicted_regions.region_detections[0].plot()"
   ]
  },
  {
   "cell_type": "code",
   "execution_count": 7,
   "metadata": {},
   "outputs": [
    {
     "data": {
      "text/html": [
       "<div>\n",
       "<style scoped>\n",
       "    .dataframe tbody tr th:only-of-type {\n",
       "        vertical-align: middle;\n",
       "    }\n",
       "\n",
       "    .dataframe tbody tr th {\n",
       "        vertical-align: top;\n",
       "    }\n",
       "\n",
       "    .dataframe thead th {\n",
       "        text-align: right;\n",
       "    }\n",
       "</style>\n",
       "<table border=\"1\" class=\"dataframe\">\n",
       "  <thead>\n",
       "    <tr style=\"text-align: right;\">\n",
       "      <th></th>\n",
       "      <th>xmin</th>\n",
       "      <th>ymin</th>\n",
       "      <th>xmax</th>\n",
       "      <th>ymax</th>\n",
       "      <th>label</th>\n",
       "      <th>score</th>\n",
       "      <th>geometry</th>\n",
       "    </tr>\n",
       "  </thead>\n",
       "  <tbody>\n",
       "    <tr>\n",
       "      <th>0</th>\n",
       "      <td>224.0</td>\n",
       "      <td>81.0</td>\n",
       "      <td>259.0</td>\n",
       "      <td>118.0</td>\n",
       "      <td>Tree</td>\n",
       "      <td>0.650493</td>\n",
       "      <td>POLYGON ((752253.308 4316955.549, 752253.308 4...</td>\n",
       "    </tr>\n",
       "    <tr>\n",
       "      <th>1</th>\n",
       "      <td>166.0</td>\n",
       "      <td>432.0</td>\n",
       "      <td>190.0</td>\n",
       "      <td>459.0</td>\n",
       "      <td>Tree</td>\n",
       "      <td>0.637800</td>\n",
       "      <td>POLYGON ((752239.508 4317025.749, 752239.508 4...</td>\n",
       "    </tr>\n",
       "    <tr>\n",
       "      <th>2</th>\n",
       "      <td>162.0</td>\n",
       "      <td>382.0</td>\n",
       "      <td>182.0</td>\n",
       "      <td>403.0</td>\n",
       "      <td>Tree</td>\n",
       "      <td>0.637427</td>\n",
       "      <td>POLYGON ((752237.908 4317015.749, 752237.908 4...</td>\n",
       "    </tr>\n",
       "    <tr>\n",
       "      <th>3</th>\n",
       "      <td>204.0</td>\n",
       "      <td>129.0</td>\n",
       "      <td>244.0</td>\n",
       "      <td>169.0</td>\n",
       "      <td>Tree</td>\n",
       "      <td>0.610135</td>\n",
       "      <td>POLYGON ((752250.308 4316965.149, 752250.308 4...</td>\n",
       "    </tr>\n",
       "    <tr>\n",
       "      <th>4</th>\n",
       "      <td>250.0</td>\n",
       "      <td>215.0</td>\n",
       "      <td>289.0</td>\n",
       "      <td>253.0</td>\n",
       "      <td>Tree</td>\n",
       "      <td>0.604367</td>\n",
       "      <td>POLYGON ((752259.308 4316982.349, 752259.308 4...</td>\n",
       "    </tr>\n",
       "    <tr>\n",
       "      <th>...</th>\n",
       "      <td>...</td>\n",
       "      <td>...</td>\n",
       "      <td>...</td>\n",
       "      <td>...</td>\n",
       "      <td>...</td>\n",
       "      <td>...</td>\n",
       "      <td>...</td>\n",
       "    </tr>\n",
       "    <tr>\n",
       "      <th>58</th>\n",
       "      <td>121.0</td>\n",
       "      <td>224.0</td>\n",
       "      <td>158.0</td>\n",
       "      <td>268.0</td>\n",
       "      <td>Tree</td>\n",
       "      <td>0.273860</td>\n",
       "      <td>POLYGON ((752233.108 4316984.149, 752233.108 4...</td>\n",
       "    </tr>\n",
       "    <tr>\n",
       "      <th>59</th>\n",
       "      <td>22.0</td>\n",
       "      <td>212.0</td>\n",
       "      <td>64.0</td>\n",
       "      <td>256.0</td>\n",
       "      <td>Tree</td>\n",
       "      <td>0.243831</td>\n",
       "      <td>POLYGON ((752214.308 4316981.749, 752214.308 4...</td>\n",
       "    </tr>\n",
       "    <tr>\n",
       "      <th>60</th>\n",
       "      <td>83.0</td>\n",
       "      <td>279.0</td>\n",
       "      <td>136.0</td>\n",
       "      <td>335.0</td>\n",
       "      <td>Tree</td>\n",
       "      <td>0.239536</td>\n",
       "      <td>POLYGON ((752228.708 4316995.149, 752228.708 4...</td>\n",
       "    </tr>\n",
       "    <tr>\n",
       "      <th>61</th>\n",
       "      <td>308.0</td>\n",
       "      <td>262.0</td>\n",
       "      <td>343.0</td>\n",
       "      <td>295.0</td>\n",
       "      <td>Tree</td>\n",
       "      <td>0.192703</td>\n",
       "      <td>POLYGON ((752270.108 4316991.749, 752270.108 4...</td>\n",
       "    </tr>\n",
       "    <tr>\n",
       "      <th>62</th>\n",
       "      <td>229.0</td>\n",
       "      <td>4.0</td>\n",
       "      <td>266.0</td>\n",
       "      <td>37.0</td>\n",
       "      <td>Tree</td>\n",
       "      <td>0.173070</td>\n",
       "      <td>POLYGON ((752254.708 4316940.149, 752254.708 4...</td>\n",
       "    </tr>\n",
       "  </tbody>\n",
       "</table>\n",
       "<p>63 rows × 7 columns</p>\n",
       "</div>"
      ],
      "text/plain": [
       "     xmin   ymin   xmax   ymax label     score  \\\n",
       "0   224.0   81.0  259.0  118.0  Tree  0.650493   \n",
       "1   166.0  432.0  190.0  459.0  Tree  0.637800   \n",
       "2   162.0  382.0  182.0  403.0  Tree  0.637427   \n",
       "3   204.0  129.0  244.0  169.0  Tree  0.610135   \n",
       "4   250.0  215.0  289.0  253.0  Tree  0.604367   \n",
       "..    ...    ...    ...    ...   ...       ...   \n",
       "58  121.0  224.0  158.0  268.0  Tree  0.273860   \n",
       "59   22.0  212.0   64.0  256.0  Tree  0.243831   \n",
       "60   83.0  279.0  136.0  335.0  Tree  0.239536   \n",
       "61  308.0  262.0  343.0  295.0  Tree  0.192703   \n",
       "62  229.0    4.0  266.0   37.0  Tree  0.173070   \n",
       "\n",
       "                                             geometry  \n",
       "0   POLYGON ((752253.308 4316955.549, 752253.308 4...  \n",
       "1   POLYGON ((752239.508 4317025.749, 752239.508 4...  \n",
       "2   POLYGON ((752237.908 4317015.749, 752237.908 4...  \n",
       "3   POLYGON ((752250.308 4316965.149, 752250.308 4...  \n",
       "4   POLYGON ((752259.308 4316982.349, 752259.308 4...  \n",
       "..                                                ...  \n",
       "58  POLYGON ((752233.108 4316984.149, 752233.108 4...  \n",
       "59  POLYGON ((752214.308 4316981.749, 752214.308 4...  \n",
       "60  POLYGON ((752228.708 4316995.149, 752228.708 4...  \n",
       "61  POLYGON ((752270.108 4316991.749, 752270.108 4...  \n",
       "62  POLYGON ((752254.708 4316940.149, 752254.708 4...  \n",
       "\n",
       "[63 rows x 7 columns]"
      ]
     },
     "execution_count": 7,
     "metadata": {},
     "output_type": "execute_result"
    }
   ],
   "source": [
    "predicted_regions.region_detections[0].detections"
   ]
  },
  {
   "cell_type": "code",
   "execution_count": null,
   "metadata": {},
   "outputs": [],
   "source": []
  }
 ],
 "metadata": {
  "kernelspec": {
   "display_name": "tree-detection-framework",
   "language": "python",
   "name": "python3"
  },
  "language_info": {
   "codemirror_mode": {
    "name": "ipython",
    "version": 3
   },
   "file_extension": ".py",
   "mimetype": "text/x-python",
   "name": "python",
   "nbconvert_exporter": "python",
   "pygments_lexer": "ipython3",
   "version": "3.10.14"
  }
 },
 "nbformat": 4,
 "nbformat_minor": 2
}
