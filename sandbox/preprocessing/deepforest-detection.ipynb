{
 "cells": [
  {
   "cell_type": "code",
   "execution_count": null,
   "metadata": {},
   "outputs": [],
   "source": [
    "from tree_detection_framework.preprocessing.preprocessing import create_dataloader, visualize_dataloader\n",
    "from tree_detection_framework.detection.detector import DeepForestDetector"
   ]
  },
  {
   "cell_type": "code",
   "execution_count": 2,
   "metadata": {},
   "outputs": [],
   "source": [
    "dataloader = create_dataloader(\n",
    "        raster_folder_path='/ofo-share/scratch-amritha/emerald_point_dtree2/dataset/emerald-point-ortho',\n",
    "        chip_size=100,\n",
    "        chip_stride=50,\n",
    "        use_units_meters=True,\n",
    "        output_resolution=0.2,\n",
    "    )"
   ]
  },
  {
   "cell_type": "code",
   "execution_count": null,
   "metadata": {},
   "outputs": [],
   "source": [
    "len(dataloader)"
   ]
  },
  {
   "cell_type": "code",
   "execution_count": null,
   "metadata": {},
   "outputs": [],
   "source": [
    "visualize_dataloader(dataloader, 5)"
   ]
  },
  {
   "cell_type": "code",
   "execution_count": null,
   "metadata": {},
   "outputs": [],
   "source": [
    "model = DeepForestDetector()"
   ]
  },
  {
   "cell_type": "code",
   "execution_count": null,
   "metadata": {},
   "outputs": [],
   "source": [
    "predictions = model.predict(dataloader)"
   ]
  },
  {
   "cell_type": "code",
   "execution_count": null,
   "metadata": {},
   "outputs": [],
   "source": [
    "predictions[0]"
   ]
  },
  {
   "cell_type": "code",
   "execution_count": null,
   "metadata": {},
   "outputs": [],
   "source": [
    "import shapely\n",
    "import pandas as pd\n",
    "from tree_detection_framework.detection.region_detections import RegionDetections, RegionDetectionsSet\n",
    "\n",
    "def get_pixel_bounds_box_from_sample(sample):\n",
    "    # Get the shape of the image\n",
    "    image_shape = sample[\"image\"].shape[-2:]\n",
    "    # Create a box from it, noting that the shape is i, j\n",
    "    image_bounds = shapely.box(xmin=0, ymin=0, xmax=image_shape[1], ymax=image_shape[0])\n",
    "    # Duplicate by the number of elements in the box\n",
    "    image_bounds_batch = [image_bounds] * sample[\"image\"].shape[0]\n",
    "    return image_bounds_batch\n",
    "\n",
    "def get_geospatial_bounds_box_from_sample(sample):\n",
    "    # Extract the bounds field\n",
    "    batch_bounds = sample[\"bounds\"]\n",
    "    # The bounds are different for each region in the batch, so create a box for each one\n",
    "    geospatial_bounds_batch = [\n",
    "        shapely.box(\n",
    "            xmin=tile_bounds.minx,\n",
    "            ymin=tile_bounds.miny,\n",
    "            xmax=tile_bounds.maxx,\n",
    "            ymax=tile_bounds.maxy\n",
    "        )\n",
    "        for tile_bounds in batch_bounds\n",
    "    ]\n",
    "\n",
    "    return geospatial_bounds_batch\n",
    "\n",
    "def parse_deepforest_output(prediction: pd.DataFrame):\n",
    "    # Create a list of shapely objects from the deepforest predictions\n",
    "    xmin = prediction[\"xmin\"].to_numpy()\n",
    "    ymin = prediction[\"ymin\"].to_numpy()\n",
    "    xmax = prediction[\"xmax\"].to_numpy()\n",
    "    ymax = prediction[\"ymax\"].to_numpy()\n",
    "    prediction_geometry = shapely.box(xmin=xmin, ymin=ymin, xmax=xmax, ymax=ymax)\n",
    "    return prediction_geometry\n",
    "\n",
    "# Create a list of RegionDetection objects\n",
    "region_detections = []\n",
    "for sample, prediction in zip(dataloader, predictions):\n",
    "    # Extract the derived attributes from the sample and prediction\n",
    "    # Note that the first element is taken from the ones where a batch is returned\n",
    "    image_bounds = get_pixel_bounds_box_from_sample(sample)[0]\n",
    "    geospatial_bounds = get_geospatial_bounds_box_from_sample(sample)[0]\n",
    "    prediction_geometry = parse_deepforest_output(prediction)\n",
    "\n",
    "    # Extract the CRS of the first (only) element in the batch\n",
    "    CRS = sample[\"crs\"][0]\n",
    "\n",
    "    # Create the region detection\n",
    "    region_detection = RegionDetections(\n",
    "        detection_geometries=prediction_geometry,\n",
    "        data=prediction,\n",
    "        pixel_prediction_bounds=image_bounds,\n",
    "        geospatial_prediction_bounds=geospatial_bounds,\n",
    "        input_in_pixels=True,\n",
    "        CRS=CRS,\n",
    "    )\n",
    "    # Append to the list\n",
    "    region_detections.append(region_detection)\n",
    "\n",
    "# Create the region detection set and save\n",
    "region_detection_set = RegionDetectionsSet(region_detections)\n",
    "region_detection_set.save(\"/ofo-share/repos-david/tree-detection-framework/data/predictions.geojson\")"
   ]
  }
 ],
 "metadata": {
  "kernelspec": {
   "display_name": "tree-detection-framework2",
   "language": "python",
   "name": "python3"
  },
  "language_info": {
   "codemirror_mode": {
    "name": "ipython",
    "version": 3
   },
   "file_extension": ".py",
   "mimetype": "text/x-python",
   "name": "python",
   "nbconvert_exporter": "python",
   "pygments_lexer": "ipython3",
   "version": "3.10.14"
  }
 },
 "nbformat": 4,
 "nbformat_minor": 2
}
