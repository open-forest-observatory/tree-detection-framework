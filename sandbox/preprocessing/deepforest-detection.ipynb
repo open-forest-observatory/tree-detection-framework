{
 "cells": [
  {
   "cell_type": "code",
   "execution_count": 1,
   "metadata": {},
   "outputs": [
    {
     "name": "stderr",
     "output_type": "stream",
     "text": [
      "/ofo-share/repos-amritha/conda/envs/tree-detection-framework/lib/python3.10/site-packages/tqdm/auto.py:21: TqdmWarning: IProgress not found. Please update jupyter and ipywidgets. See https://ipywidgets.readthedocs.io/en/stable/user_install.html\n",
      "  from .autonotebook import tqdm as notebook_tqdm\n",
      "/ofo-share/repos-amritha/conda/envs/tree-detection-framework/lib/python3.10/site-packages/albumentations/__init__.py:13: UserWarning: A new version of Albumentations is available: 1.4.18 (you have 1.4.14). Upgrade using: pip install -U albumentations. To disable automatic update checks, set the environment variable NO_ALBUMENTATIONS_UPDATE to 1.\n",
      "  check_for_updates()\n"
     ]
    }
   ],
   "source": [
    "from deepforest import main\n",
    "from deepforest import get_data\n",
    "import os\n",
    "import matplotlib.pyplot as plt \n",
    "import cv2\n",
    "import pandas as pd"
   ]
  },
  {
   "cell_type": "code",
   "execution_count": 2,
   "metadata": {},
   "outputs": [],
   "source": [
    "from tree_detection_framework.preprocessing.preprocessing import create_dataloader, visualize_dataloader\n",
    "from tree_detection_framework.detection.detector import DeepForestDetector"
   ]
  },
  {
   "cell_type": "code",
   "execution_count": 3,
   "metadata": {},
   "outputs": [],
   "source": [
    "from torchgeo.datasets import unbind_samples"
   ]
  },
  {
   "cell_type": "code",
   "execution_count": 4,
   "metadata": {},
   "outputs": [],
   "source": [
    "dataloader = create_dataloader(\n",
    "        raster_folder_path='/ofo-share/scratch-amritha/emerald_point_dtree2/dataset/emerald-point-ortho',\n",
    "        chip_size=100,\n",
    "        chip_stride=50,\n",
    "        use_units_meters=True,\n",
    "        output_resolution=0.2,\n",
    "    )"
   ]
  },
  {
   "cell_type": "code",
   "execution_count": 5,
   "metadata": {},
   "outputs": [
    {
     "data": {
      "text/plain": [
       "36"
      ]
     },
     "execution_count": 5,
     "metadata": {},
     "output_type": "execute_result"
    }
   ],
   "source": [
    "len(dataloader)"
   ]
  },
  {
   "cell_type": "code",
   "execution_count": null,
   "metadata": {},
   "outputs": [],
   "source": [
    "visualize_dataloader(dataloader, 5)"
   ]
  },
  {
   "cell_type": "code",
   "execution_count": 6,
   "metadata": {},
   "outputs": [
    {
     "name": "stdout",
     "output_type": "stream",
     "text": [
      "Reading config file: /ofo-share/repos-amritha/conda/envs/tree-detection-framework/lib/python3.10/site-packages/deepforest/data/deepforest_config.yml\n"
     ]
    },
    {
     "name": "stderr",
     "output_type": "stream",
     "text": [
      "GPU available: True (cuda), used: True\n",
      "TPU available: False, using: 0 TPU cores\n",
      "HPU available: False, using: 0 HPUs\n"
     ]
    },
    {
     "name": "stdout",
     "output_type": "stream",
     "text": [
      "No validation file provided. Turning off validation loop\n"
     ]
    },
    {
     "name": "stderr",
     "output_type": "stream",
     "text": [
      "/ofo-share/repos-amritha/conda/envs/tree-detection-framework/lib/python3.10/site-packages/deepforest/main.py:130: FutureWarning: You are using `torch.load` with `weights_only=False` (the current default value), which uses the default pickle module implicitly. It is possible to construct malicious pickle data which will execute arbitrary code during unpickling (See https://github.com/pytorch/pytorch/blob/main/SECURITY.md#untrusted-models for more details). In a future release, the default value for `weights_only` will be flipped to `True`. This limits the functions that could be executed during unpickling. Arbitrary objects will no longer be allowed to be loaded via this mode unless they are explicitly allowlisted by the user via `torch.serialization.add_safe_globals`. We recommend you start setting `weights_only=True` for any use case where you don't have full control of the loaded file. Please open an issue on GitHub for any issues related to this experimental feature.\n",
      "  self.model.load_state_dict(torch.load(self.release_state_dict))\n"
     ]
    },
    {
     "name": "stdout",
     "output_type": "stream",
     "text": [
      "Model from DeepForest release https://github.com/weecology/DeepForest/releases/tag/1.0.0 was already downloaded. Loading model from file.\n",
      "Loading pre-built model: https://github.com/weecology/DeepForest/releases/tag/1.0.0\n"
     ]
    }
   ],
   "source": [
    "model = DeepForestDetector()"
   ]
  },
  {
   "cell_type": "code",
   "execution_count": 7,
   "metadata": {},
   "outputs": [
    {
     "name": "stderr",
     "output_type": "stream",
     "text": [
      "/ofo-share/repos-amritha/conda/envs/tree-detection-framework/lib/python3.10/site-packages/rasterio/merge.py:369: NodataShadowWarning: The dataset's nodata attribute is shadowing the alpha band. All masks will be determined by the nodata attribute\n",
      "  temp_src = src.read(\n",
      "/ofo-share/repos-amritha/conda/envs/tree-detection-framework/lib/python3.10/site-packages/deepforest/main.py:338: UserWarning: Image type is uint8, transforming to float32. This assumes that the range of pixel values is 0-255, as opposed to 0-1.To suppress this warning, transform image (image.astype('float32')\n",
      "  warnings.warn(f\"Image type is {image.dtype}, transforming to float32. \"\n",
      "/ofo-share/repos-amritha/conda/envs/tree-detection-framework/lib/python3.10/site-packages/rasterio/merge.py:369: NodataShadowWarning: The dataset's nodata attribute is shadowing the alpha band. All masks will be determined by the nodata attribute\n",
      "  temp_src = src.read(\n",
      "/ofo-share/repos-amritha/conda/envs/tree-detection-framework/lib/python3.10/site-packages/deepforest/main.py:338: UserWarning: Image type is uint8, transforming to float32. This assumes that the range of pixel values is 0-255, as opposed to 0-1.To suppress this warning, transform image (image.astype('float32')\n",
      "  warnings.warn(f\"Image type is {image.dtype}, transforming to float32. \"\n",
      "/ofo-share/repos-amritha/conda/envs/tree-detection-framework/lib/python3.10/site-packages/rasterio/merge.py:369: NodataShadowWarning: The dataset's nodata attribute is shadowing the alpha band. All masks will be determined by the nodata attribute\n",
      "  temp_src = src.read(\n",
      "/ofo-share/repos-amritha/conda/envs/tree-detection-framework/lib/python3.10/site-packages/deepforest/main.py:338: UserWarning: Image type is uint8, transforming to float32. This assumes that the range of pixel values is 0-255, as opposed to 0-1.To suppress this warning, transform image (image.astype('float32')\n",
      "  warnings.warn(f\"Image type is {image.dtype}, transforming to float32. \"\n",
      "/ofo-share/repos-amritha/conda/envs/tree-detection-framework/lib/python3.10/site-packages/rasterio/merge.py:369: NodataShadowWarning: The dataset's nodata attribute is shadowing the alpha band. All masks will be determined by the nodata attribute\n",
      "  temp_src = src.read(\n",
      "/ofo-share/repos-amritha/conda/envs/tree-detection-framework/lib/python3.10/site-packages/deepforest/main.py:338: UserWarning: Image type is uint8, transforming to float32. This assumes that the range of pixel values is 0-255, as opposed to 0-1.To suppress this warning, transform image (image.astype('float32')\n",
      "  warnings.warn(f\"Image type is {image.dtype}, transforming to float32. \"\n",
      "/ofo-share/repos-amritha/conda/envs/tree-detection-framework/lib/python3.10/site-packages/rasterio/merge.py:369: NodataShadowWarning: The dataset's nodata attribute is shadowing the alpha band. All masks will be determined by the nodata attribute\n",
      "  temp_src = src.read(\n",
      "/ofo-share/repos-amritha/conda/envs/tree-detection-framework/lib/python3.10/site-packages/deepforest/main.py:338: UserWarning: Image type is uint8, transforming to float32. This assumes that the range of pixel values is 0-255, as opposed to 0-1.To suppress this warning, transform image (image.astype('float32')\n",
      "  warnings.warn(f\"Image type is {image.dtype}, transforming to float32. \"\n",
      "/ofo-share/repos-amritha/conda/envs/tree-detection-framework/lib/python3.10/site-packages/rasterio/merge.py:369: NodataShadowWarning: The dataset's nodata attribute is shadowing the alpha band. All masks will be determined by the nodata attribute\n",
      "  temp_src = src.read(\n",
      "/ofo-share/repos-amritha/conda/envs/tree-detection-framework/lib/python3.10/site-packages/deepforest/main.py:338: UserWarning: Image type is uint8, transforming to float32. This assumes that the range of pixel values is 0-255, as opposed to 0-1.To suppress this warning, transform image (image.astype('float32')\n",
      "  warnings.warn(f\"Image type is {image.dtype}, transforming to float32. \"\n",
      "/ofo-share/repos-amritha/conda/envs/tree-detection-framework/lib/python3.10/site-packages/rasterio/merge.py:369: NodataShadowWarning: The dataset's nodata attribute is shadowing the alpha band. All masks will be determined by the nodata attribute\n",
      "  temp_src = src.read(\n",
      "/ofo-share/repos-amritha/conda/envs/tree-detection-framework/lib/python3.10/site-packages/deepforest/main.py:338: UserWarning: Image type is uint8, transforming to float32. This assumes that the range of pixel values is 0-255, as opposed to 0-1.To suppress this warning, transform image (image.astype('float32')\n",
      "  warnings.warn(f\"Image type is {image.dtype}, transforming to float32. \"\n",
      "/ofo-share/repos-amritha/conda/envs/tree-detection-framework/lib/python3.10/site-packages/rasterio/merge.py:369: NodataShadowWarning: The dataset's nodata attribute is shadowing the alpha band. All masks will be determined by the nodata attribute\n",
      "  temp_src = src.read(\n",
      "/ofo-share/repos-amritha/conda/envs/tree-detection-framework/lib/python3.10/site-packages/deepforest/main.py:338: UserWarning: Image type is uint8, transforming to float32. This assumes that the range of pixel values is 0-255, as opposed to 0-1.To suppress this warning, transform image (image.astype('float32')\n",
      "  warnings.warn(f\"Image type is {image.dtype}, transforming to float32. \"\n",
      "/ofo-share/repos-amritha/conda/envs/tree-detection-framework/lib/python3.10/site-packages/rasterio/merge.py:369: NodataShadowWarning: The dataset's nodata attribute is shadowing the alpha band. All masks will be determined by the nodata attribute\n",
      "  temp_src = src.read(\n",
      "/ofo-share/repos-amritha/conda/envs/tree-detection-framework/lib/python3.10/site-packages/deepforest/main.py:338: UserWarning: Image type is uint8, transforming to float32. This assumes that the range of pixel values is 0-255, as opposed to 0-1.To suppress this warning, transform image (image.astype('float32')\n",
      "  warnings.warn(f\"Image type is {image.dtype}, transforming to float32. \"\n",
      "/ofo-share/repos-amritha/conda/envs/tree-detection-framework/lib/python3.10/site-packages/rasterio/merge.py:369: NodataShadowWarning: The dataset's nodata attribute is shadowing the alpha band. All masks will be determined by the nodata attribute\n",
      "  temp_src = src.read(\n",
      "/ofo-share/repos-amritha/conda/envs/tree-detection-framework/lib/python3.10/site-packages/deepforest/main.py:338: UserWarning: Image type is uint8, transforming to float32. This assumes that the range of pixel values is 0-255, as opposed to 0-1.To suppress this warning, transform image (image.astype('float32')\n",
      "  warnings.warn(f\"Image type is {image.dtype}, transforming to float32. \"\n",
      "/ofo-share/repos-amritha/conda/envs/tree-detection-framework/lib/python3.10/site-packages/rasterio/merge.py:369: NodataShadowWarning: The dataset's nodata attribute is shadowing the alpha band. All masks will be determined by the nodata attribute\n",
      "  temp_src = src.read(\n",
      "/ofo-share/repos-amritha/conda/envs/tree-detection-framework/lib/python3.10/site-packages/deepforest/main.py:338: UserWarning: Image type is uint8, transforming to float32. This assumes that the range of pixel values is 0-255, as opposed to 0-1.To suppress this warning, transform image (image.astype('float32')\n",
      "  warnings.warn(f\"Image type is {image.dtype}, transforming to float32. \"\n",
      "/ofo-share/repos-amritha/conda/envs/tree-detection-framework/lib/python3.10/site-packages/rasterio/merge.py:369: NodataShadowWarning: The dataset's nodata attribute is shadowing the alpha band. All masks will be determined by the nodata attribute\n",
      "  temp_src = src.read(\n",
      "/ofo-share/repos-amritha/conda/envs/tree-detection-framework/lib/python3.10/site-packages/deepforest/main.py:338: UserWarning: Image type is uint8, transforming to float32. This assumes that the range of pixel values is 0-255, as opposed to 0-1.To suppress this warning, transform image (image.astype('float32')\n",
      "  warnings.warn(f\"Image type is {image.dtype}, transforming to float32. \"\n",
      "/ofo-share/repos-amritha/conda/envs/tree-detection-framework/lib/python3.10/site-packages/rasterio/merge.py:369: NodataShadowWarning: The dataset's nodata attribute is shadowing the alpha band. All masks will be determined by the nodata attribute\n",
      "  temp_src = src.read(\n",
      "/ofo-share/repos-amritha/conda/envs/tree-detection-framework/lib/python3.10/site-packages/deepforest/main.py:338: UserWarning: Image type is uint8, transforming to float32. This assumes that the range of pixel values is 0-255, as opposed to 0-1.To suppress this warning, transform image (image.astype('float32')\n",
      "  warnings.warn(f\"Image type is {image.dtype}, transforming to float32. \"\n",
      "/ofo-share/repos-amritha/conda/envs/tree-detection-framework/lib/python3.10/site-packages/rasterio/merge.py:369: NodataShadowWarning: The dataset's nodata attribute is shadowing the alpha band. All masks will be determined by the nodata attribute\n",
      "  temp_src = src.read(\n",
      "/ofo-share/repos-amritha/conda/envs/tree-detection-framework/lib/python3.10/site-packages/deepforest/main.py:338: UserWarning: Image type is uint8, transforming to float32. This assumes that the range of pixel values is 0-255, as opposed to 0-1.To suppress this warning, transform image (image.astype('float32')\n",
      "  warnings.warn(f\"Image type is {image.dtype}, transforming to float32. \"\n",
      "/ofo-share/repos-amritha/conda/envs/tree-detection-framework/lib/python3.10/site-packages/rasterio/merge.py:369: NodataShadowWarning: The dataset's nodata attribute is shadowing the alpha band. All masks will be determined by the nodata attribute\n",
      "  temp_src = src.read(\n",
      "/ofo-share/repos-amritha/conda/envs/tree-detection-framework/lib/python3.10/site-packages/deepforest/main.py:338: UserWarning: Image type is uint8, transforming to float32. This assumes that the range of pixel values is 0-255, as opposed to 0-1.To suppress this warning, transform image (image.astype('float32')\n",
      "  warnings.warn(f\"Image type is {image.dtype}, transforming to float32. \"\n",
      "/ofo-share/repos-amritha/conda/envs/tree-detection-framework/lib/python3.10/site-packages/rasterio/merge.py:369: NodataShadowWarning: The dataset's nodata attribute is shadowing the alpha band. All masks will be determined by the nodata attribute\n",
      "  temp_src = src.read(\n",
      "/ofo-share/repos-amritha/conda/envs/tree-detection-framework/lib/python3.10/site-packages/deepforest/main.py:338: UserWarning: Image type is uint8, transforming to float32. This assumes that the range of pixel values is 0-255, as opposed to 0-1.To suppress this warning, transform image (image.astype('float32')\n",
      "  warnings.warn(f\"Image type is {image.dtype}, transforming to float32. \"\n",
      "/ofo-share/repos-amritha/conda/envs/tree-detection-framework/lib/python3.10/site-packages/rasterio/merge.py:369: NodataShadowWarning: The dataset's nodata attribute is shadowing the alpha band. All masks will be determined by the nodata attribute\n",
      "  temp_src = src.read(\n",
      "/ofo-share/repos-amritha/conda/envs/tree-detection-framework/lib/python3.10/site-packages/deepforest/main.py:338: UserWarning: Image type is uint8, transforming to float32. This assumes that the range of pixel values is 0-255, as opposed to 0-1.To suppress this warning, transform image (image.astype('float32')\n",
      "  warnings.warn(f\"Image type is {image.dtype}, transforming to float32. \"\n",
      "/ofo-share/repos-amritha/conda/envs/tree-detection-framework/lib/python3.10/site-packages/rasterio/merge.py:369: NodataShadowWarning: The dataset's nodata attribute is shadowing the alpha band. All masks will be determined by the nodata attribute\n",
      "  temp_src = src.read(\n",
      "/ofo-share/repos-amritha/conda/envs/tree-detection-framework/lib/python3.10/site-packages/deepforest/main.py:338: UserWarning: Image type is uint8, transforming to float32. This assumes that the range of pixel values is 0-255, as opposed to 0-1.To suppress this warning, transform image (image.astype('float32')\n",
      "  warnings.warn(f\"Image type is {image.dtype}, transforming to float32. \"\n",
      "/ofo-share/repos-amritha/conda/envs/tree-detection-framework/lib/python3.10/site-packages/rasterio/merge.py:369: NodataShadowWarning: The dataset's nodata attribute is shadowing the alpha band. All masks will be determined by the nodata attribute\n",
      "  temp_src = src.read(\n",
      "/ofo-share/repos-amritha/conda/envs/tree-detection-framework/lib/python3.10/site-packages/deepforest/main.py:338: UserWarning: Image type is uint8, transforming to float32. This assumes that the range of pixel values is 0-255, as opposed to 0-1.To suppress this warning, transform image (image.astype('float32')\n",
      "  warnings.warn(f\"Image type is {image.dtype}, transforming to float32. \"\n",
      "/ofo-share/repos-amritha/conda/envs/tree-detection-framework/lib/python3.10/site-packages/rasterio/merge.py:369: NodataShadowWarning: The dataset's nodata attribute is shadowing the alpha band. All masks will be determined by the nodata attribute\n",
      "  temp_src = src.read(\n",
      "/ofo-share/repos-amritha/conda/envs/tree-detection-framework/lib/python3.10/site-packages/deepforest/main.py:338: UserWarning: Image type is uint8, transforming to float32. This assumes that the range of pixel values is 0-255, as opposed to 0-1.To suppress this warning, transform image (image.astype('float32')\n",
      "  warnings.warn(f\"Image type is {image.dtype}, transforming to float32. \"\n",
      "/ofo-share/repos-amritha/conda/envs/tree-detection-framework/lib/python3.10/site-packages/rasterio/merge.py:369: NodataShadowWarning: The dataset's nodata attribute is shadowing the alpha band. All masks will be determined by the nodata attribute\n",
      "  temp_src = src.read(\n",
      "/ofo-share/repos-amritha/conda/envs/tree-detection-framework/lib/python3.10/site-packages/deepforest/main.py:338: UserWarning: Image type is uint8, transforming to float32. This assumes that the range of pixel values is 0-255, as opposed to 0-1.To suppress this warning, transform image (image.astype('float32')\n",
      "  warnings.warn(f\"Image type is {image.dtype}, transforming to float32. \"\n",
      "/ofo-share/repos-amritha/conda/envs/tree-detection-framework/lib/python3.10/site-packages/rasterio/merge.py:369: NodataShadowWarning: The dataset's nodata attribute is shadowing the alpha band. All masks will be determined by the nodata attribute\n",
      "  temp_src = src.read(\n",
      "/ofo-share/repos-amritha/conda/envs/tree-detection-framework/lib/python3.10/site-packages/deepforest/main.py:338: UserWarning: Image type is uint8, transforming to float32. This assumes that the range of pixel values is 0-255, as opposed to 0-1.To suppress this warning, transform image (image.astype('float32')\n",
      "  warnings.warn(f\"Image type is {image.dtype}, transforming to float32. \"\n",
      "/ofo-share/repos-amritha/conda/envs/tree-detection-framework/lib/python3.10/site-packages/rasterio/merge.py:369: NodataShadowWarning: The dataset's nodata attribute is shadowing the alpha band. All masks will be determined by the nodata attribute\n",
      "  temp_src = src.read(\n",
      "/ofo-share/repos-amritha/conda/envs/tree-detection-framework/lib/python3.10/site-packages/deepforest/main.py:338: UserWarning: Image type is uint8, transforming to float32. This assumes that the range of pixel values is 0-255, as opposed to 0-1.To suppress this warning, transform image (image.astype('float32')\n",
      "  warnings.warn(f\"Image type is {image.dtype}, transforming to float32. \"\n",
      "/ofo-share/repos-amritha/conda/envs/tree-detection-framework/lib/python3.10/site-packages/rasterio/merge.py:369: NodataShadowWarning: The dataset's nodata attribute is shadowing the alpha band. All masks will be determined by the nodata attribute\n",
      "  temp_src = src.read(\n",
      "/ofo-share/repos-amritha/conda/envs/tree-detection-framework/lib/python3.10/site-packages/deepforest/main.py:338: UserWarning: Image type is uint8, transforming to float32. This assumes that the range of pixel values is 0-255, as opposed to 0-1.To suppress this warning, transform image (image.astype('float32')\n",
      "  warnings.warn(f\"Image type is {image.dtype}, transforming to float32. \"\n",
      "/ofo-share/repos-amritha/conda/envs/tree-detection-framework/lib/python3.10/site-packages/rasterio/merge.py:369: NodataShadowWarning: The dataset's nodata attribute is shadowing the alpha band. All masks will be determined by the nodata attribute\n",
      "  temp_src = src.read(\n",
      "/ofo-share/repos-amritha/conda/envs/tree-detection-framework/lib/python3.10/site-packages/deepforest/main.py:338: UserWarning: Image type is uint8, transforming to float32. This assumes that the range of pixel values is 0-255, as opposed to 0-1.To suppress this warning, transform image (image.astype('float32')\n",
      "  warnings.warn(f\"Image type is {image.dtype}, transforming to float32. \"\n",
      "/ofo-share/repos-amritha/conda/envs/tree-detection-framework/lib/python3.10/site-packages/rasterio/merge.py:369: NodataShadowWarning: The dataset's nodata attribute is shadowing the alpha band. All masks will be determined by the nodata attribute\n",
      "  temp_src = src.read(\n",
      "/ofo-share/repos-amritha/conda/envs/tree-detection-framework/lib/python3.10/site-packages/deepforest/main.py:338: UserWarning: Image type is uint8, transforming to float32. This assumes that the range of pixel values is 0-255, as opposed to 0-1.To suppress this warning, transform image (image.astype('float32')\n",
      "  warnings.warn(f\"Image type is {image.dtype}, transforming to float32. \"\n",
      "/ofo-share/repos-amritha/conda/envs/tree-detection-framework/lib/python3.10/site-packages/rasterio/merge.py:369: NodataShadowWarning: The dataset's nodata attribute is shadowing the alpha band. All masks will be determined by the nodata attribute\n",
      "  temp_src = src.read(\n",
      "/ofo-share/repos-amritha/conda/envs/tree-detection-framework/lib/python3.10/site-packages/deepforest/main.py:338: UserWarning: Image type is uint8, transforming to float32. This assumes that the range of pixel values is 0-255, as opposed to 0-1.To suppress this warning, transform image (image.astype('float32')\n",
      "  warnings.warn(f\"Image type is {image.dtype}, transforming to float32. \"\n",
      "/ofo-share/repos-amritha/conda/envs/tree-detection-framework/lib/python3.10/site-packages/rasterio/merge.py:369: NodataShadowWarning: The dataset's nodata attribute is shadowing the alpha band. All masks will be determined by the nodata attribute\n",
      "  temp_src = src.read(\n",
      "/ofo-share/repos-amritha/conda/envs/tree-detection-framework/lib/python3.10/site-packages/deepforest/main.py:338: UserWarning: Image type is uint8, transforming to float32. This assumes that the range of pixel values is 0-255, as opposed to 0-1.To suppress this warning, transform image (image.astype('float32')\n",
      "  warnings.warn(f\"Image type is {image.dtype}, transforming to float32. \"\n",
      "/ofo-share/repos-amritha/conda/envs/tree-detection-framework/lib/python3.10/site-packages/rasterio/merge.py:369: NodataShadowWarning: The dataset's nodata attribute is shadowing the alpha band. All masks will be determined by the nodata attribute\n",
      "  temp_src = src.read(\n",
      "/ofo-share/repos-amritha/conda/envs/tree-detection-framework/lib/python3.10/site-packages/deepforest/main.py:338: UserWarning: Image type is uint8, transforming to float32. This assumes that the range of pixel values is 0-255, as opposed to 0-1.To suppress this warning, transform image (image.astype('float32')\n",
      "  warnings.warn(f\"Image type is {image.dtype}, transforming to float32. \"\n",
      "/ofo-share/repos-amritha/conda/envs/tree-detection-framework/lib/python3.10/site-packages/rasterio/merge.py:369: NodataShadowWarning: The dataset's nodata attribute is shadowing the alpha band. All masks will be determined by the nodata attribute\n",
      "  temp_src = src.read(\n",
      "/ofo-share/repos-amritha/conda/envs/tree-detection-framework/lib/python3.10/site-packages/deepforest/main.py:338: UserWarning: Image type is uint8, transforming to float32. This assumes that the range of pixel values is 0-255, as opposed to 0-1.To suppress this warning, transform image (image.astype('float32')\n",
      "  warnings.warn(f\"Image type is {image.dtype}, transforming to float32. \"\n",
      "/ofo-share/repos-amritha/conda/envs/tree-detection-framework/lib/python3.10/site-packages/rasterio/merge.py:369: NodataShadowWarning: The dataset's nodata attribute is shadowing the alpha band. All masks will be determined by the nodata attribute\n",
      "  temp_src = src.read(\n",
      "/ofo-share/repos-amritha/conda/envs/tree-detection-framework/lib/python3.10/site-packages/deepforest/main.py:338: UserWarning: Image type is uint8, transforming to float32. This assumes that the range of pixel values is 0-255, as opposed to 0-1.To suppress this warning, transform image (image.astype('float32')\n",
      "  warnings.warn(f\"Image type is {image.dtype}, transforming to float32. \"\n",
      "/ofo-share/repos-amritha/conda/envs/tree-detection-framework/lib/python3.10/site-packages/rasterio/merge.py:369: NodataShadowWarning: The dataset's nodata attribute is shadowing the alpha band. All masks will be determined by the nodata attribute\n",
      "  temp_src = src.read(\n",
      "/ofo-share/repos-amritha/conda/envs/tree-detection-framework/lib/python3.10/site-packages/deepforest/main.py:338: UserWarning: Image type is uint8, transforming to float32. This assumes that the range of pixel values is 0-255, as opposed to 0-1.To suppress this warning, transform image (image.astype('float32')\n",
      "  warnings.warn(f\"Image type is {image.dtype}, transforming to float32. \"\n",
      "/ofo-share/repos-amritha/conda/envs/tree-detection-framework/lib/python3.10/site-packages/rasterio/merge.py:369: NodataShadowWarning: The dataset's nodata attribute is shadowing the alpha band. All masks will be determined by the nodata attribute\n",
      "  temp_src = src.read(\n",
      "/ofo-share/repos-amritha/conda/envs/tree-detection-framework/lib/python3.10/site-packages/deepforest/main.py:338: UserWarning: Image type is uint8, transforming to float32. This assumes that the range of pixel values is 0-255, as opposed to 0-1.To suppress this warning, transform image (image.astype('float32')\n",
      "  warnings.warn(f\"Image type is {image.dtype}, transforming to float32. \"\n",
      "/ofo-share/repos-amritha/conda/envs/tree-detection-framework/lib/python3.10/site-packages/rasterio/merge.py:369: NodataShadowWarning: The dataset's nodata attribute is shadowing the alpha band. All masks will be determined by the nodata attribute\n",
      "  temp_src = src.read(\n",
      "/ofo-share/repos-amritha/conda/envs/tree-detection-framework/lib/python3.10/site-packages/deepforest/main.py:338: UserWarning: Image type is uint8, transforming to float32. This assumes that the range of pixel values is 0-255, as opposed to 0-1.To suppress this warning, transform image (image.astype('float32')\n",
      "  warnings.warn(f\"Image type is {image.dtype}, transforming to float32. \"\n",
      "/ofo-share/repos-amritha/conda/envs/tree-detection-framework/lib/python3.10/site-packages/rasterio/merge.py:369: NodataShadowWarning: The dataset's nodata attribute is shadowing the alpha band. All masks will be determined by the nodata attribute\n",
      "  temp_src = src.read(\n",
      "/ofo-share/repos-amritha/conda/envs/tree-detection-framework/lib/python3.10/site-packages/deepforest/main.py:338: UserWarning: Image type is uint8, transforming to float32. This assumes that the range of pixel values is 0-255, as opposed to 0-1.To suppress this warning, transform image (image.astype('float32')\n",
      "  warnings.warn(f\"Image type is {image.dtype}, transforming to float32. \"\n",
      "/ofo-share/repos-amritha/conda/envs/tree-detection-framework/lib/python3.10/site-packages/rasterio/merge.py:369: NodataShadowWarning: The dataset's nodata attribute is shadowing the alpha band. All masks will be determined by the nodata attribute\n",
      "  temp_src = src.read(\n",
      "/ofo-share/repos-amritha/conda/envs/tree-detection-framework/lib/python3.10/site-packages/deepforest/main.py:338: UserWarning: Image type is uint8, transforming to float32. This assumes that the range of pixel values is 0-255, as opposed to 0-1.To suppress this warning, transform image (image.astype('float32')\n",
      "  warnings.warn(f\"Image type is {image.dtype}, transforming to float32. \"\n"
     ]
    }
   ],
   "source": [
    "predictions = model.predict(dataloader)"
   ]
  },
  {
   "cell_type": "code",
   "execution_count": 8,
   "metadata": {},
   "outputs": [
    {
     "data": {
      "text/html": [
       "<div>\n",
       "<style scoped>\n",
       "    .dataframe tbody tr th:only-of-type {\n",
       "        vertical-align: middle;\n",
       "    }\n",
       "\n",
       "    .dataframe tbody tr th {\n",
       "        vertical-align: top;\n",
       "    }\n",
       "\n",
       "    .dataframe thead th {\n",
       "        text-align: right;\n",
       "    }\n",
       "</style>\n",
       "<table border=\"1\" class=\"dataframe\">\n",
       "  <thead>\n",
       "    <tr style=\"text-align: right;\">\n",
       "      <th></th>\n",
       "      <th>xmin</th>\n",
       "      <th>ymin</th>\n",
       "      <th>xmax</th>\n",
       "      <th>ymax</th>\n",
       "      <th>label</th>\n",
       "      <th>score</th>\n",
       "    </tr>\n",
       "  </thead>\n",
       "  <tbody>\n",
       "    <tr>\n",
       "      <th>0</th>\n",
       "      <td>164.0</td>\n",
       "      <td>422.0</td>\n",
       "      <td>188.0</td>\n",
       "      <td>449.0</td>\n",
       "      <td>Tree</td>\n",
       "      <td>0.642623</td>\n",
       "    </tr>\n",
       "    <tr>\n",
       "      <th>1</th>\n",
       "      <td>364.0</td>\n",
       "      <td>142.0</td>\n",
       "      <td>401.0</td>\n",
       "      <td>181.0</td>\n",
       "      <td>Tree</td>\n",
       "      <td>0.618745</td>\n",
       "    </tr>\n",
       "    <tr>\n",
       "      <th>2</th>\n",
       "      <td>251.0</td>\n",
       "      <td>206.0</td>\n",
       "      <td>288.0</td>\n",
       "      <td>242.0</td>\n",
       "      <td>Tree</td>\n",
       "      <td>0.604112</td>\n",
       "    </tr>\n",
       "    <tr>\n",
       "      <th>3</th>\n",
       "      <td>225.0</td>\n",
       "      <td>70.0</td>\n",
       "      <td>260.0</td>\n",
       "      <td>106.0</td>\n",
       "      <td>Tree</td>\n",
       "      <td>0.599384</td>\n",
       "    </tr>\n",
       "    <tr>\n",
       "      <th>4</th>\n",
       "      <td>422.0</td>\n",
       "      <td>80.0</td>\n",
       "      <td>463.0</td>\n",
       "      <td>120.0</td>\n",
       "      <td>Tree</td>\n",
       "      <td>0.588728</td>\n",
       "    </tr>\n",
       "    <tr>\n",
       "      <th>...</th>\n",
       "      <td>...</td>\n",
       "      <td>...</td>\n",
       "      <td>...</td>\n",
       "      <td>...</td>\n",
       "      <td>...</td>\n",
       "      <td>...</td>\n",
       "    </tr>\n",
       "    <tr>\n",
       "      <th>60</th>\n",
       "      <td>242.0</td>\n",
       "      <td>271.0</td>\n",
       "      <td>274.0</td>\n",
       "      <td>305.0</td>\n",
       "      <td>Tree</td>\n",
       "      <td>0.198579</td>\n",
       "    </tr>\n",
       "    <tr>\n",
       "      <th>61</th>\n",
       "      <td>404.0</td>\n",
       "      <td>181.0</td>\n",
       "      <td>439.0</td>\n",
       "      <td>217.0</td>\n",
       "      <td>Tree</td>\n",
       "      <td>0.197015</td>\n",
       "    </tr>\n",
       "    <tr>\n",
       "      <th>62</th>\n",
       "      <td>230.0</td>\n",
       "      <td>2.0</td>\n",
       "      <td>265.0</td>\n",
       "      <td>34.0</td>\n",
       "      <td>Tree</td>\n",
       "      <td>0.191969</td>\n",
       "    </tr>\n",
       "    <tr>\n",
       "      <th>63</th>\n",
       "      <td>107.0</td>\n",
       "      <td>318.0</td>\n",
       "      <td>144.0</td>\n",
       "      <td>354.0</td>\n",
       "      <td>Tree</td>\n",
       "      <td>0.191410</td>\n",
       "    </tr>\n",
       "    <tr>\n",
       "      <th>64</th>\n",
       "      <td>477.0</td>\n",
       "      <td>404.0</td>\n",
       "      <td>500.0</td>\n",
       "      <td>455.0</td>\n",
       "      <td>Tree</td>\n",
       "      <td>0.177548</td>\n",
       "    </tr>\n",
       "  </tbody>\n",
       "</table>\n",
       "<p>65 rows × 6 columns</p>\n",
       "</div>"
      ],
      "text/plain": [
       "     xmin   ymin   xmax   ymax label     score\n",
       "0   164.0  422.0  188.0  449.0  Tree  0.642623\n",
       "1   364.0  142.0  401.0  181.0  Tree  0.618745\n",
       "2   251.0  206.0  288.0  242.0  Tree  0.604112\n",
       "3   225.0   70.0  260.0  106.0  Tree  0.599384\n",
       "4   422.0   80.0  463.0  120.0  Tree  0.588728\n",
       "..    ...    ...    ...    ...   ...       ...\n",
       "60  242.0  271.0  274.0  305.0  Tree  0.198579\n",
       "61  404.0  181.0  439.0  217.0  Tree  0.197015\n",
       "62  230.0    2.0  265.0   34.0  Tree  0.191969\n",
       "63  107.0  318.0  144.0  354.0  Tree  0.191410\n",
       "64  477.0  404.0  500.0  455.0  Tree  0.177548\n",
       "\n",
       "[65 rows x 6 columns]"
      ]
     },
     "execution_count": 8,
     "metadata": {},
     "output_type": "execute_result"
    }
   ],
   "source": [
    "predictions[0]"
   ]
  },
  {
   "cell_type": "code",
   "execution_count": null,
   "metadata": {},
   "outputs": [],
   "source": []
  }
 ],
 "metadata": {
  "kernelspec": {
   "display_name": "tree-detection-framework",
   "language": "python",
   "name": "python3"
  },
  "language_info": {
   "codemirror_mode": {
    "name": "ipython",
    "version": 3
   },
   "file_extension": ".py",
   "mimetype": "text/x-python",
   "name": "python",
   "nbconvert_exporter": "python",
   "pygments_lexer": "ipython3",
   "version": "3.10.14"
  }
 },
 "nbformat": 4,
 "nbformat_minor": 2
}
