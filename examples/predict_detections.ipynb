{
 "cells": [
  {
   "cell_type": "markdown",
   "metadata": {},
   "source": [
    "# Tree detection inference"
   ]
  },
  {
   "cell_type": "code",
   "execution_count": null,
   "metadata": {},
   "outputs": [],
   "source": [
    "# Import required libraries\n",
    "from pathlib import Path\n",
    "import torch\n",
    "\n",
    "from tree_detection_framework.constants import DATA_FOLDER\n",
    "from tree_detection_framework.detection.detector import DeepForestDetector\n",
    "from tree_detection_framework.detection.models import DeepForestModule\n",
    "from tree_detection_framework.postprocessing.postprocessing import multi_region_NMS\n",
    "from tree_detection_framework.preprocessing.preprocessing import (\n",
    "    create_dataloader,\n",
    "    visualize_dataloader,\n",
    ")"
   ]
  },
  {
   "cell_type": "markdown",
   "metadata": {},
   "source": [
    "## Define constants\n",
    "The behavior of this notebook can be changed by adjusting these values."
   ]
  },
  {
   "cell_type": "code",
   "execution_count": null,
   "metadata": {},
   "outputs": [],
   "source": [
    "# The path to a folder of raster images, e.g. orthomosaics stor\n",
    "RASTER_FOLDER_PATH = Path(DATA_FOLDER, \"emerald-point-ortho\")\n",
    "RASTER_FILE_PATH = Path(RASTER_FOLDER_PATH, \"ortho.tif\")\n",
    "# Prediction file path\n",
    "OUTPUT_PREDICTIONS_FILE_PATH = Path(\n",
    "    DATA_FOLDER, \"emerald-point-ortho-deep-forest-predictions.gpkg\"\n",
    ")\n",
    "# The size of the chips in pixels\n",
    "CHIP_SIZE = 1024\n",
    "# The stride between chips in pixels\n",
    "CHIP_STRIDE = 768\n",
    "# The spatial resolution that the data is sampled to in meters/pix\n",
    "OUTPUT_RESOLUTION = 0.05\n",
    "# The number of samples in a batch\n",
    "BATCH_SIZE = 4\n",
    "# Any detections below this threshold will be discarded\n",
    "MIN_CONFIDENCE_THRESHOLD = 0.3\n",
    "# Detections that overlap more than this threshold will be suppressed\n",
    "IOU_NMS_THESHOLD = 0.3\n",
    "\n",
    "# How many tiles to show\n",
    "N_VIS_TILES = 3\n",
    "\n",
    "# Setup the parameters dictionary\n",
    "MODEL_PARAMS = {\n",
    "    \"backbone\": \"retinanet\",\n",
    "    \"num_classes\": 1,\n",
    "}\n",
    "# The device to use for inference, GPU or CPU\n",
    "DEVICE = torch.device(\"cuda\") if torch.cuda.is_available() else torch.device(\"cpu\")"
   ]
  },
  {
   "cell_type": "markdown",
   "metadata": {},
   "source": [
    "Create a dataloader to generate samples"
   ]
  },
  {
   "cell_type": "code",
   "execution_count": null,
   "metadata": {},
   "outputs": [],
   "source": [
    "dataloader = create_dataloader(\n",
    "    raster_folder_path=RASTER_FOLDER_PATH,\n",
    "    chip_size=CHIP_SIZE,\n",
    "    chip_stride=CHIP_STRIDE,\n",
    "    output_resolution=OUTPUT_RESOLUTION,\n",
    "    batch_size=BATCH_SIZE,\n",
    ")"
   ]
  },
  {
   "cell_type": "markdown",
   "metadata": {},
   "source": [
    "Show example samples"
   ]
  },
  {
   "cell_type": "code",
   "execution_count": null,
   "metadata": {},
   "outputs": [],
   "source": [
    "visualize_dataloader(dataloader, n_tiles=N_VIS_TILES)"
   ]
  },
  {
   "cell_type": "markdown",
   "metadata": {},
   "source": [
    "Create a DeepForest detector model"
   ]
  },
  {
   "cell_type": "code",
   "execution_count": null,
   "metadata": {},
   "outputs": [],
   "source": [
    "# This model uses pretrained weights from DeepForest\n",
    "df_module = DeepForestModule(MODEL_PARAMS).to(DEVICE)\n",
    "df_detector = DeepForestDetector(df_module)"
   ]
  },
  {
   "cell_type": "markdown",
   "metadata": {},
   "source": [
    "Generate predictions for each tile in the dataloader"
   ]
  },
  {
   "cell_type": "code",
   "execution_count": null,
   "metadata": {},
   "outputs": [],
   "source": [
    "outputs = df_detector.predict(dataloader)"
   ]
  },
  {
   "cell_type": "markdown",
   "metadata": {},
   "source": [
    "Plot the predictions for all overlapping tiles colored by the prediction confidence"
   ]
  },
  {
   "cell_type": "code",
   "execution_count": null,
   "metadata": {},
   "outputs": [],
   "source": [
    "outputs.plot(visualization_column=\"score\", bounds_color=\"r\", raster_file=RASTER_FILE_PATH)"
   ]
  },
  {
   "cell_type": "markdown",
   "metadata": {},
   "source": [
    "Run nonmax suppression and across all the tiles and remove low-confidence detections"
   ]
  },
  {
   "cell_type": "code",
   "execution_count": null,
   "metadata": {},
   "outputs": [],
   "source": [
    "NMS_outputs = multi_region_NMS(\n",
    "    outputs,\n",
    "    confidence_column=\"score\",\n",
    "    iou_theshold=IOU_NMS_THESHOLD,\n",
    "    min_confidence=MIN_CONFIDENCE_THRESHOLD,\n",
    ")"
   ]
  },
  {
   "cell_type": "markdown",
   "metadata": {},
   "source": [
    "Show the result again after running NMS"
   ]
  },
  {
   "cell_type": "code",
   "execution_count": null,
   "metadata": {},
   "outputs": [],
   "source": [
    "NMS_outputs.plot(\n",
    "    visualization_column=\"score\", bounds_color=\"r\", raster_file=RASTER_FILE_PATH\n",
    ")"
   ]
  },
  {
   "cell_type": "markdown",
   "metadata": {},
   "source": [
    "Save out the predictions to a geospatial file"
   ]
  },
  {
   "cell_type": "code",
   "execution_count": null,
   "metadata": {},
   "outputs": [],
   "source": [
    "NMS_outputs.save(OUTPUT_PREDICTIONS_FILE_PATH)"
   ]
  }
 ],
 "metadata": {
  "kernelspec": {
   "display_name": "tree-detection-framework2",
   "language": "python",
   "name": "python3"
  },
  "language_info": {
   "codemirror_mode": {
    "name": "ipython",
    "version": 3
   },
   "file_extension": ".py",
   "mimetype": "text/x-python",
   "name": "python",
   "nbconvert_exporter": "python",
   "pygments_lexer": "ipython3",
   "version": "3.10.14"
  }
 },
 "nbformat": 4,
 "nbformat_minor": 2
}
